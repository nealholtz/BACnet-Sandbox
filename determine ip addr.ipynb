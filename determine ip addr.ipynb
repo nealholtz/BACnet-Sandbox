{
 "cells": [
  {
   "cell_type": "markdown",
   "metadata": {},
   "source": [
    "# Method 1\n",
    "\n",
    "From https://stackoverflow.com/questions/166506/finding-local-ip-addresses-using-pythons-stdlib"
   ]
  },
  {
   "cell_type": "markdown",
   "metadata": {},
   "source": [
    "The following had wireless only ..."
   ]
  },
  {
   "cell_type": "code",
   "execution_count": 5,
   "metadata": {},
   "outputs": [
    {
     "data": {
      "text/plain": [
       "('192.168.100.196', 43330)"
      ]
     },
     "execution_count": 5,
     "metadata": {},
     "output_type": "execute_result"
    }
   ],
   "source": [
    "import socket\n",
    "s = socket.socket(socket.AF_INET, socket.SOCK_DGRAM)\n",
    "s.connect((\"8.8.8.8\", 80))\n",
    "a = s.getsockname()\n",
    "s.close()\n",
    "a"
   ]
  },
  {
   "cell_type": "markdown",
   "metadata": {},
   "source": [
    "The following had both wired and wireless:"
   ]
  },
  {
   "cell_type": "code",
   "execution_count": 6,
   "metadata": {
    "scrolled": true
   },
   "outputs": [
    {
     "data": {
      "text/plain": [
       "['enp24s0   Link encap:Ethernet  HWaddr 00:23:26:a6:0c:6e  ',\n",
       " '          inet addr:192.168.100.182  Bcast:192.168.100.255  Mask:255.255.255.0',\n",
       " '          inet6 addr: fe80::bf9f:fa0e:52de:9c8a/64 Scope:Link',\n",
       " '          UP BROADCAST RUNNING MULTICAST  MTU:1500  Metric:1',\n",
       " '          RX packets:304 errors:0 dropped:0 overruns:0 frame:0',\n",
       " '          TX packets:357 errors:0 dropped:0 overruns:0 carrier:0',\n",
       " '          collisions:0 txqueuelen:1000 ',\n",
       " '          RX bytes:54848 (54.8 KB)  TX bytes:43168 (43.1 KB)',\n",
       " '          Interrupt:16 ',\n",
       " '',\n",
       " 'lo        Link encap:Local Loopback  ',\n",
       " '          inet addr:127.0.0.1  Mask:255.0.0.0',\n",
       " '          inet6 addr: ::1/128 Scope:Host',\n",
       " '          UP LOOPBACK RUNNING  MTU:65536  Metric:1',\n",
       " '          RX packets:7464 errors:0 dropped:0 overruns:0 frame:0',\n",
       " '          TX packets:7464 errors:0 dropped:0 overruns:0 carrier:0',\n",
       " '          collisions:0 txqueuelen:1 ',\n",
       " '          RX bytes:1047193 (1.0 MB)  TX bytes:1047193 (1.0 MB)',\n",
       " '',\n",
       " 'wlp16s0   Link encap:Ethernet  HWaddr 00:26:b6:b7:ab:78  ',\n",
       " '          inet addr:192.168.100.196  Bcast:192.168.100.255  Mask:255.255.255.0',\n",
       " '          inet6 addr: fe80::e53e:8ee5:d917:7c8b/64 Scope:Link',\n",
       " '          UP BROADCAST RUNNING MULTICAST  MTU:1500  Metric:1',\n",
       " '          RX packets:159884 errors:0 dropped:0 overruns:0 frame:0',\n",
       " '          TX packets:125427 errors:0 dropped:0 overruns:0 carrier:0',\n",
       " '          collisions:0 txqueuelen:1000 ',\n",
       " '          RX bytes:152249195 (152.2 MB)  TX bytes:26748789 (26.7 MB)',\n",
       " '']"
      ]
     },
     "execution_count": 6,
     "metadata": {},
     "output_type": "execute_result"
    }
   ],
   "source": [
    "%system ifconfig"
   ]
  },
  {
   "cell_type": "code",
   "execution_count": 7,
   "metadata": {},
   "outputs": [
    {
     "data": {
      "text/plain": [
       "['Kernel IP routing table',\n",
       " 'Destination     Gateway         Genmask         Flags Metric Ref    Use Iface',\n",
       " '0.0.0.0         192.168.100.1   0.0.0.0         UG    100    0        0 enp24s0',\n",
       " '0.0.0.0         192.168.100.1   0.0.0.0         UG    600    0        0 wlp16s0',\n",
       " '169.254.0.0     0.0.0.0         255.255.0.0     U     1000   0        0 wlp16s0',\n",
       " '192.168.100.0   0.0.0.0         255.255.255.0   U     100    0        0 enp24s0',\n",
       " '192.168.100.0   0.0.0.0         255.255.255.0   U     600    0        0 wlp16s0']"
      ]
     },
     "execution_count": 7,
     "metadata": {},
     "output_type": "execute_result"
    }
   ],
   "source": [
    "%system route -n"
   ]
  },
  {
   "cell_type": "code",
   "execution_count": 8,
   "metadata": {},
   "outputs": [
    {
     "data": {
      "text/plain": [
       "('192.168.100.182', 42208)"
      ]
     },
     "execution_count": 8,
     "metadata": {},
     "output_type": "execute_result"
    }
   ],
   "source": [
    "import socket\n",
    "s = socket.socket(socket.AF_INET, socket.SOCK_DGRAM)\n",
    "s.connect((\"8.8.8.8\", 80))\n",
    "a = s.getsockname()\n",
    "s.close()\n",
    "a"
   ]
  },
  {
   "cell_type": "markdown",
   "metadata": {},
   "source": [
    "Therefore, it seems to report the IP # of the interface through which the connection is made."
   ]
  },
  {
   "cell_type": "markdown",
   "metadata": {},
   "source": [
    "# Method 2\n",
    "\n",
    "From https://stackoverflow.com/questions/30698521/python-netifaces-how-to-get-currently-used-network-interface?rq=1\n",
    "\n",
    "Also see https://pypi.python.org/pypi/netifaces for documentation and examples."
   ]
  },
  {
   "cell_type": "markdown",
   "metadata": {},
   "source": [
    "Unfortunately, netifaces does not seemed to be installed by default in Python3 (I think it\n",
    "was in 2).  So do\n",
    "\n",
    "```\n",
    "pip install netifaces\n",
    "```\n",
    "\n",
    "under Python 3"
   ]
  },
  {
   "cell_type": "code",
   "execution_count": 10,
   "metadata": {},
   "outputs": [],
   "source": [
    "import netifaces as ni"
   ]
  },
  {
   "cell_type": "code",
   "execution_count": 11,
   "metadata": {},
   "outputs": [
    {
     "data": {
      "text/plain": [
       "['lo', 'enp24s0', 'wlp16s0']"
      ]
     },
     "execution_count": 11,
     "metadata": {},
     "output_type": "execute_result"
    }
   ],
   "source": [
    "ni.interfaces()"
   ]
  },
  {
   "cell_type": "code",
   "execution_count": 12,
   "metadata": {},
   "outputs": [
    {
     "data": {
      "text/plain": [
       "{2: [{'addr': '192.168.100.196',\n",
       "   'broadcast': '192.168.100.255',\n",
       "   'netmask': '255.255.255.0'}],\n",
       " 10: [{'addr': 'fe80::e53e:8ee5:d917:7c8b%wlp16s0',\n",
       "   'netmask': 'ffff:ffff:ffff:ffff::/64'}],\n",
       " 17: [{'addr': '00:26:b6:b7:ab:78', 'broadcast': 'ff:ff:ff:ff:ff:ff'}]}"
      ]
     },
     "execution_count": 12,
     "metadata": {},
     "output_type": "execute_result"
    }
   ],
   "source": [
    "ni.ifaddresses('wlp16s0')"
   ]
  },
  {
   "cell_type": "code",
   "execution_count": 13,
   "metadata": {},
   "outputs": [
    {
     "data": {
      "text/plain": [
       "[{'addr': '192.168.100.196',\n",
       "  'broadcast': '192.168.100.255',\n",
       "  'netmask': '255.255.255.0'}]"
      ]
     },
     "execution_count": 13,
     "metadata": {},
     "output_type": "execute_result"
    }
   ],
   "source": [
    "ni.ifaddresses('wlp16s0')[ni.AF_INET]"
   ]
  },
  {
   "cell_type": "code",
   "execution_count": 15,
   "metadata": {},
   "outputs": [
    {
     "data": {
      "text/plain": [
       "'192.168.100.196'"
      ]
     },
     "execution_count": 15,
     "metadata": {},
     "output_type": "execute_result"
    }
   ],
   "source": [
    "ni.ifaddresses('wlp16s0')[ni.AF_INET][0]['addr']"
   ]
  },
  {
   "cell_type": "markdown",
   "metadata": {},
   "source": [
    "Note that Ubuntu has changed the names of all interfaces.  What used to be 'eth0' now seems\n",
    "to be 'enp24s0'.  In the following, that interface was not connected so all we get is the\n",
    "hardware addr."
   ]
  },
  {
   "cell_type": "code",
   "execution_count": 16,
   "metadata": {},
   "outputs": [
    {
     "data": {
      "text/plain": [
       "{17: [{'addr': '00:23:26:a6:0c:6e', 'broadcast': 'ff:ff:ff:ff:ff:ff'}]}"
      ]
     },
     "execution_count": 16,
     "metadata": {},
     "output_type": "execute_result"
    }
   ],
   "source": [
    "ni.ifaddresses('enp24s0')"
   ]
  }
 ],
 "metadata": {
  "kernelspec": {
   "display_name": "Python 3",
   "language": "python",
   "name": "python3"
  },
  "language_info": {
   "codemirror_mode": {
    "name": "ipython",
    "version": 3
   },
   "file_extension": ".py",
   "mimetype": "text/x-python",
   "name": "python",
   "nbconvert_exporter": "python",
   "pygments_lexer": "ipython3",
   "version": "3.5.2"
  }
 },
 "nbformat": 4,
 "nbformat_minor": 2
}
